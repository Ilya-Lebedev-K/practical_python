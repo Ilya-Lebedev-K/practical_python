{
 "cells": [
  {
   "cell_type": "markdown",
   "metadata": {},
   "source": [
    "# Дополнительная задача\n",
    "\n",
    "Эту задачу надо решать после того, как решены все задачи из \"Это есть в Википедии\".\n",
    "\n",
    "Посмотрите <a href=\"https://www.ted.com/talks/hans_rosling_shows_the_best_stats_you_ve_ever_seen\">видео</a> (почти 13 миллионов просмотров на TED) и поиграйте с графиками на <a href=\"https://www.gapminder.org/tools/\"> этом сайте</a>.\n",
    "\n",
    "Эта задача состоит из двух подзадач. Но прежде, чем к ним переходить, давайте немного разберёмся с инструментами, которые нам понадобятся."
   ]
  },
  {
   "cell_type": "code",
   "execution_count": 2,
   "metadata": {},
   "outputs": [],
   "source": [
    "import matplotlib.pyplot as plt # библиотека для построения графиков\n",
    "import pandas as pd # библиотека для эффективного использования наборов данных"
   ]
  },
  {
   "cell_type": "code",
   "execution_count": 3,
   "metadata": {},
   "outputs": [
    {
     "data": {
      "image/png": "[encoded data removed]",
      "text/plain": [
       "<Figure size 432x288 with 1 Axes>"
      ]
     },
     "metadata": {
      "needs_background": "light"
     },
     "output_type": "display_data"
    }
   ],
   "source": [
    "# догадаетесь, что делает этот код?\n",
    "plt.plot([1, 2, 3], [4, 5, 6])\n",
    "plt.scatter([4, 5], [4, 5])\n",
    "plt.show()"
   ]
  },
  {
   "cell_type": "code",
   "execution_count": 9,
   "metadata": {},
   "outputs": [
    {
     "data": {
      "text/html": [
       "<div>\n",
       "<style scoped>\n",
       "    .dataframe tbody tr th:only-of-type {\n",
       "        vertical-align: middle;\n",
       "    }\n",
       "\n",
       "    .dataframe tbody tr th {\n",
       "        vertical-align: top;\n",
       "    }\n",
       "\n",
       "    .dataframe thead th {\n",
       "        text-align: right;\n",
       "    }\n",
       "</style>\n",
       "<table border=\"1\" class=\"dataframe\">\n",
       "  <thead>\n",
       "    <tr style=\"text-align: right;\">\n",
       "      <th></th>\n",
       "      <th>col0</th>\n",
       "      <th>col1</th>\n",
       "      <th>col2</th>\n",
       "    </tr>\n",
       "  </thead>\n",
       "  <tbody>\n",
       "    <tr>\n",
       "      <th>0</th>\n",
       "      <td>1</td>\n",
       "      <td>2</td>\n",
       "      <td>3</td>\n",
       "    </tr>\n",
       "    <tr>\n",
       "      <th>1</th>\n",
       "      <td>6</td>\n",
       "      <td>7</td>\n",
       "      <td>8</td>\n",
       "    </tr>\n",
       "  </tbody>\n",
       "</table>\n",
       "</div>"
      ],
      "text/plain": [
       "   col0  col1  col2\n",
       "0     1     2     3\n",
       "1     6     7     8"
      ]
     },
     "execution_count": 9,
     "metadata": {},
     "output_type": "execute_result"
    }
   ],
   "source": [
    "# DataFrame -- основной класс в pandas для хранения наборов данных\n",
    "df = pd.DataFrame([[1, 2, 3], [6, 7, 8]], columns=[\"col0\", \"col1\", \"col2\"])\n",
    "df"
   ]
  },
  {
   "cell_type": "code",
   "execution_count": 12,
   "metadata": {},
   "outputs": [
    {
     "data": {
      "image/png": "[encoded data removed]",
      "text/plain": [
       "<Figure size 432x288 with 1 Axes>"
      ]
     },
     "metadata": {
      "needs_background": "light"
     },
     "output_type": "display_data"
    }
   ],
   "source": [
    "# DataFrame можно передавать в matplotlib для отрисовки графиков\n",
    "plt.scatter(df[\"col0\"], df[\"col1\"])\n",
    "plt.plot()\n",
    "plt.show()"
   ]
  },
  {
   "cell_type": "markdown",
   "metadata": {},
   "source": [
    "## 1. Повторить эксперимент на данных из Википедии\n",
    "\n",
    "Данные на GapMinder берутся из <a href=\"https://www.gapminder.org/data/\">некоторых официальных источников</a>. Очевидно, что взгляд на мироустройство, который может быть построен на основе графиков на сайте, сильно зависит от данных.\n",
    "\n",
    "Требуется взять любую проекцию с сайта (например, самую первую: доход против продолжительности жизни), и собрать те же данные с Википедии.\n",
    "\n",
    "В случае, если всё хорошо, график будет выглядеть точно так же. Расхождения будут указывать либо на ошибки в вашем коде, либо на ошибки в Википедии, либо на ошибки в базе данных авторов. \n",
    "Плюс такого подхода по сравнению с подходом авторов -- более понятное и автоматическое обновление данных.\n",
    "\n"
   ]
  },
  {
   "cell_type": "code",
   "execution_count": 13,
   "metadata": {},
   "outputs": [],
   "source": [
    "# Cкачайте данные из википедии и сохраните их в data frame.\n",
    "# Это непростая задача, ведь данные оформлены по-разному в разных статьях.\n",
    "# Можно начать с одного региона.\n",
    "# Напишите везде docstring [https://www.python.org/dev/peps/pep-0257/]\n",
    "\n",
    "class WikiCountryDataLoader:\n",
    "    def __init__(self, regions, metric_name): # get region names and what info we need\n",
    "        pass\n",
    "    def download_region(self, region): # is run by get_data, returns data frame\n",
    "        pass\n",
    "    def get_data(self): # returns data frame\n",
    "        pass"
   ]
  },
  {
   "cell_type": "code",
   "execution_count": null,
   "metadata": {},
   "outputs": [],
   "source": [
    "# Отрисуйте скачанные данные\n",
    "# Подсказка: у функции scatter есть возможность делать размер кружка размером страны, как на GapMinder.\n",
    "data = ...\n",
    "plt.scatter(...) # Можно запускать больше одного раза\n",
    "plt.show()"
   ]
  },
  {
   "cell_type": "markdown",
   "metadata": {},
   "source": [
    "## 2. Придумать свой эксперимент\n",
    "\n",
    "Посмотрите, каких данных нет в GapMinder. Может быть, про популярность компьютерных игр или про то, какие грибы растут в лесах этой страны, или какой версией Windows пользуется основная масса владельцев ПК. Придумайте сами, какие данные вам бы хотелось показать, и добавьте в WikiCountryDataLoader возможность их получать. Нарисуйте график с этими данными (он может выглядеть как угодно, не обязательно scatter)."
   ]
  },
  {
   "cell_type": "code",
   "execution_count": null,
   "metadata": {},
   "outputs": [],
   "source": [
    "# ваш код"
   ]
  }
 ],
 "metadata": {
  "kernelspec": {
   "display_name": "Python 3",
   "language": "python",
   "name": "python3"
  },
  "language_info": {
   "codemirror_mode": {
    "name": "ipython",
    "version": 3
   },
   "file_extension": ".py",
   "mimetype": "text/x-python",
   "name": "python",
   "nbconvert_exporter": "python",
   "pygments_lexer": "ipython3",
   "version": "3.6.6"
  }
 },
 "nbformat": 4,
 "nbformat_minor": 2
}
