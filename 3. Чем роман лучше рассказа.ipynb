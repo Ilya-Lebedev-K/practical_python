{
 "cells": [
  {
   "cell_type": "markdown",
   "metadata": {},
   "source": [
    "# 0. Подготовка\n",
    "\n",
    "В этом листке нам не понадобится никаких новых библиотек! Ура!\n",
    "\n",
    "Вместо этого мы научимся работать со строками в Python.\n",
    "\n",
    "Полезные ссылки:\n",
    "\n",
    "* Строки в Python (официальная документация)\n",
    "* Python string best practices\n",
    "* String concatenation [https://stackoverflow.com/questions/39675898/is-python-string-concatenation-bad-practice]\n",
    "* String formatting [https://realpython.com/python-string-formatting/]\n",
    "\n",
    "Обратите внимание: в этом листке сохраняются уровни заданий, как в предыдущем. Вы сами можете решить, сколько заданий вы делаете.\n",
    "\n",
    "# 1. Извлечение данных из текста\n",
    "\n"
   ]
  }
 ],
 "metadata": {
  "kernelspec": {
   "display_name": "Python 3",
   "language": "python",
   "name": "python3"
  },
  "language_info": {
   "codemirror_mode": {
    "name": "ipython",
    "version": 3
   },
   "file_extension": ".py",
   "mimetype": "text/x-python",
   "name": "python",
   "nbconvert_exporter": "python",
   "pygments_lexer": "ipython3",
   "version": "3.6.6"
  }
 },
 "nbformat": 4,
 "nbformat_minor": 2
}
