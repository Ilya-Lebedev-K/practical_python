{
 "cells": [
  {
   "cell_type": "markdown",
   "metadata": {},
   "source": [
    "# 1. Подготовка\n",
    "\n",
    "В этом модуле мы научимся работать с простыми библиотеками для языка Python, понимать документацию к этим библиотекам и решать с их помощью свои прикладные задачи.\n",
    "\n",
    "## Словарь\n",
    "\n",
    "*Библиотека* (или, как говорят относительно Python, модуль) -- некая часть программного кода (например, в виде отдельного файла), цель которой -- использоваться при разработке других программ. Например, **math** -- библиотека языка Python, которая содержит математические функции. Библиотеки, по сравнению со включением всех нужных функций непосредственно в язые, нужны:\n",
    "- Чтобы дать программистам возможность не писать сложный, но нужный код заново, а использовать готовый;\n",
    "- Чтобы не перегружать язык программирования редко используемыми функциями;\n",
    "- Чтобы дать разработчикам, не имеющим отношения к разработке какого-то языка программирования, возможность распространять свои наработки на этом языке.\n",
    "\n",
    "*Менеджер пакетов* -- специальная программа для конкретного языка программирования, цель которой -- облегчить пользователям установку библиотек для этого языка и предотвратить конфликты библиотек между собой (подумайте, откуда такие конфликты могут взяться). Для языка Python мы будем использовать менеджер пакетов **pip**, который входит в стандартную поставку языка Python 3 и в пакет Anaconda.\n",
    "\n",
    "*Документация* -- набор текстов, описывающих поведение библиотеки. Когда библиотека публикуется онлайн, к ней пишут тексты, поясняющие, как её использовать. Это обязательная часть разработки библиотеки, без документации пользоваться ей никто не будет. Документация бывает плохая и хорошая, под последней имеется в виду такая, которая лаконично, подробно и понятно описывает, как библиотекой пользоваться и не допускает двояких толкований."
   ]
  },
  {
   "cell_type": "markdown",
   "metadata": {},
   "source": [
    "## Вопросы для размышления\n",
    "1. Зачем нужны библиотеки с точки зрения разработчиков прикладных продуктов, разработчиков алгоритмов и разработчиков языков программирования?\n",
    "2. Что должен уметь хороший менеджер пакетов?\n"
   ]
  },
  {
   "cell_type": "markdown",
   "metadata": {},
   "source": [
    "# 2. Классная работа\n",
    "## Установка библиотеки wikipedia\n",
    "Мы воспользуемся pip, чтобы скачать и установить библиотеку <a href=\"https://pypi.org/project/wikipedia/\">wikipedia</a>. Можно сделать это из командной строки:\n",
    "\n",
    "    pip install wikipedia\n",
    "    \n",
    "А можно и прямо из ноутбука, потому что ячейки Jupyter Notebook поддерживают командную строку, если добавить в начало восклицательный знак. Запустите ячейку ниже."
   ]
  },
  {
   "cell_type": "code",
   "execution_count": 3,
   "metadata": {
    "collapsed": false
   },
   "outputs": [
    {
     "name": "stdout",
     "output_type": "stream",
     "text": [
      "Requirement already satisfied: wikipedia in /home/sooobus/anaconda3/lib/python3.6/site-packages\n",
      "Requirement already satisfied: beautifulsoup4 in /home/sooobus/anaconda3/lib/python3.6/site-packages (from wikipedia)\n",
      "Requirement already satisfied: requests<3.0.0,>=2.0.0 in /home/sooobus/anaconda3/lib/python3.6/site-packages (from wikipedia)\n",
      "Requirement already satisfied: chardet<3.1.0,>=3.0.2 in /home/sooobus/anaconda3/lib/python3.6/site-packages (from requests<3.0.0,>=2.0.0->wikipedia)\n",
      "Requirement already satisfied: urllib3<1.23,>=1.21.1 in /home/sooobus/anaconda3/lib/python3.6/site-packages (from requests<3.0.0,>=2.0.0->wikipedia)\n",
      "Requirement already satisfied: certifi>=2017.4.17 in /home/sooobus/anaconda3/lib/python3.6/site-packages (from requests<3.0.0,>=2.0.0->wikipedia)\n",
      "Requirement already satisfied: idna<2.7,>=2.5 in /home/sooobus/anaconda3/lib/python3.6/site-packages (from requests<3.0.0,>=2.0.0->wikipedia)\n",
      "\u001b[33mYou are using pip version 9.0.3, however version 18.0 is available.\n",
      "You should consider upgrading via the 'pip install --upgrade pip' command.\u001b[0m\n"
     ]
    }
   ],
   "source": [
    "!pip install wikipedia"
   ]
  },
  {
   "cell_type": "markdown",
   "metadata": {},
   "source": [
    "## Исследование возможностей библиотеки"
   ]
  },
  {
   "cell_type": "code",
   "execution_count": 5,
   "metadata": {
    "collapsed": true
   },
   "outputs": [],
   "source": [
    "# подключим библиотеку\n",
    "import wikipedia"
   ]
  },
  {
   "cell_type": "markdown",
   "metadata": {},
   "source": [
    "<a href=\"https://pypi.org/project/wikipedia/#description\">По этой ссылке</a> можно найти описание библиотеки на официальном сайте пакетов для Python. В описании есть ссылка на документацию библиотеки, найдите её самостоятельно. К этой библиотеке документация состоит из двух частей: непосредственно документация и так называемый Quickstart. Имеет смысл начать с Quickstart, а если какие-то функции работают не так, как вы от них интуитивно ожидаете, перейти к чтению непосредственно документации.\n",
    "\n",
    "Посмотрим, что можно с библиотекой делать. Сначала установим русский язык для поиска статей по заголовкам:"
   ]
  },
  {
   "cell_type": "code",
   "execution_count": 7,
   "metadata": {
    "collapsed": true
   },
   "outputs": [],
   "source": [
    "wikipedia.set_lang(\"ru\")"
   ]
  },
  {
   "cell_type": "markdown",
   "metadata": {},
   "source": [
    "Теперь загрузим какую-нибудь статью."
   ]
  },
  {
   "cell_type": "code",
   "execution_count": 9,
   "metadata": {
    "collapsed": false
   },
   "outputs": [],
   "source": [
    "gagarin_page = wikipedia.page(\"Юрий Гагарин\")"
   ]
  },
  {
   "cell_type": "markdown",
   "metadata": {},
   "source": [
    "Какого класса объект, который возвращает вызов метода page?"
   ]
  },
  {
   "cell_type": "code",
   "execution_count": 11,
   "metadata": {
    "collapsed": false
   },
   "outputs": [
    {
     "data": {
      "text/plain": [
       "wikipedia.wikipedia.WikipediaPage"
      ]
     },
     "execution_count": 11,
     "metadata": {},
     "output_type": "execute_result"
    }
   ],
   "source": [
    "type(gagarin_page)"
   ]
  },
  {
   "cell_type": "markdown",
   "metadata": {},
   "source": [
    "Как узнать, какие поля есть у этого класса?"
   ]
  },
  {
   "cell_type": "code",
   "execution_count": 12,
   "metadata": {
    "collapsed": false
   },
   "outputs": [
    {
     "data": {
      "text/plain": [
       "['_WikipediaPage__continued_query',\n",
       " '_WikipediaPage__load',\n",
       " '_WikipediaPage__title_query_param',\n",
       " '__class__',\n",
       " '__delattr__',\n",
       " '__dict__',\n",
       " '__dir__',\n",
       " '__doc__',\n",
       " '__eq__',\n",
       " '__format__',\n",
       " '__ge__',\n",
       " '__getattribute__',\n",
       " '__gt__',\n",
       " '__hash__',\n",
       " '__init__',\n",
       " '__init_subclass__',\n",
       " '__le__',\n",
       " '__lt__',\n",
       " '__module__',\n",
       " '__ne__',\n",
       " '__new__',\n",
       " '__reduce__',\n",
       " '__reduce_ex__',\n",
       " '__repr__',\n",
       " '__setattr__',\n",
       " '__sizeof__',\n",
       " '__str__',\n",
       " '__subclasshook__',\n",
       " '__weakref__',\n",
       " 'categories',\n",
       " 'content',\n",
       " 'coordinates',\n",
       " 'html',\n",
       " 'images',\n",
       " 'links',\n",
       " 'original_title',\n",
       " 'pageid',\n",
       " 'parent_id',\n",
       " 'references',\n",
       " 'revision_id',\n",
       " 'section',\n",
       " 'sections',\n",
       " 'summary',\n",
       " 'title',\n",
       " 'url']"
      ]
     },
     "execution_count": 12,
     "metadata": {},
     "output_type": "execute_result"
    }
   ],
   "source": [
    "dir(gagarin_page)"
   ]
  },
  {
   "cell_type": "markdown",
   "metadata": {},
   "source": [
    "Давайте попробуем вызвать несколько из этих полей и методов, подробное описание того, как они работают, есть в документации."
   ]
  },
  {
   "cell_type": "code",
   "execution_count": 16,
   "metadata": {
    "collapsed": false
   },
   "outputs": [
    {
     "name": "stdout",
     "output_type": "stream",
     "text": [
      "https://ru.wikipedia.org/wiki/%D0%93%D0%B0%D0%B3%D0%B0%D1%80%D0%B8%D0%BD,_%D0%AE%D1%80%D0%B8%D0%B9_%D0%90%D0%BB%D0%B5%D0%BA%D1%81%D0%B5%D0%B5%D0%B2%D0%B8%D1%87\n"
     ]
    }
   ],
   "source": [
    "print(gagarin_page.url)"
   ]
  },
  {
   "cell_type": "code",
   "execution_count": 18,
   "metadata": {
    "collapsed": false
   },
   "outputs": [
    {
     "name": "stdout",
     "output_type": "stream",
     "text": [
      "Ю́рий Алексе́евич Гага́рин (9 марта 1934, Клушино, Гжатский (ныне Гагаринский) район, Западная область, СССР — 27 марта 1968, возле села Новосёлово, Киржачский район, Владимирская область, СССР) — лётчик-космонавт СССР, Герой Советского Союза, кавалер высших знаков отличия ряда государств, почётный гражданин многих российских и зарубежных городов.\n",
      "Полковник ВВС СССР (1963), военный лётчик 1-го класса, заслуженный мастер спорта СССР (1961), член ЦК ВЛКСМ, депутат Верховного Совета СССР 7-го и 8-го созывов.\n",
      "12 апреля 1961 года Юрий Гагарин стал первым человеком в мировой истории, совершившим полёт в космическое пространство. Ракета-носитель «Восток» с кораблём «Восток-1», на борту которого находился Гагарин, была запущена с космодрома Байконур. После 108 минут полёта Гагарин успешно приземлился в Саратовской области, неподалёку от Энгельса. Начиная с 12 апреля 1962 года, день полёта Гагарина в космос был объявлен праздником — Днём космонавтики.\n",
      "Первый космический полёт вызвал большой инт\n"
     ]
    }
   ],
   "source": [
    "print(gagarin_page.content[:1000]) # Что делает этот код?"
   ]
  },
  {
   "cell_type": "markdown",
   "metadata": {},
   "source": [
    "# 3. Задания для самостоятельной работы"
   ]
  },
  {
   "cell_type": "markdown",
   "metadata": {},
   "source": [
    "### Фамилия, имя: "
   ]
  },
  {
   "cell_type": "markdown",
   "metadata": {},
   "source": [
    "### Дата отправки:"
   ]
  },
  {
   "cell_type": "markdown",
   "metadata": {},
   "source": [
    "Каждая из задач оценивается от 0 до 2 баллов, в зависимости от успешности выполнения и с произвольным шагом. Возможно начисление бонусных баллов за красивые и интересные решения. \n",
    "\n",
    "Скачайте этот ноутбук, выполните задания. Впишите свои имя, фамилию и дату выполнения работы в блоке выше. Удалите все ячейки выше ячейки \"Задания для самостоятельной работы\". Сохраните получившийся ноутбук, а также конвертируйте его в pdf. Назовите оба файла так, чтобы из них было понятно, кто вы и что это за задание, и пошлите их вашему преподавателю таким образом, как он(а) сказал(а)."
   ]
  },
  {
   "cell_type": "markdown",
   "metadata": {},
   "source": [
    "### 1. Мне сказали слово, я расплёл его в строку\n",
    "Напечатайте заголовки 10 случайных статей из Википедии. Подсказка: сначала прочтите документацию, вам нужен метод random."
   ]
  },
  {
   "cell_type": "code",
   "execution_count": null,
   "metadata": {
    "collapsed": true
   },
   "outputs": [],
   "source": [
    "# ваш код здесь"
   ]
  },
  {
   "cell_type": "markdown",
   "metadata": {},
   "source": [
    "### 2.  Ленинград -- Амстердам\n",
    "Выведите самую красивую фотографию со страницы города, в котором вы хотите побывать. Вам поможет метод images, который возвращает список ссылок на все картинки на странице. Выберите любую ссылку и воспользуйтесь кодом ниже."
   ]
  },
  {
   "cell_type": "code",
   "execution_count": null,
   "metadata": {
    "collapsed": true
   },
   "outputs": [],
   "source": [
    "from IPython.display import Image # Эта строка и строка ниже позволят показывать картинки внутри ноутбука.\n",
    "from IPython.core.display import HTML\n",
    "page = ... # Загрузите нужную страницу.\n",
    "image_link = ... # Получите все ссылки, а потом выберите из них понравившуюся.\n",
    "Image(url=image_link)"
   ]
  },
  {
   "cell_type": "markdown",
   "metadata": {},
   "source": [
    "### 3. Урок географии\n",
    "\n",
    "С помощью wikipedia.geosearch выясните, как называется провинция в Чили, где находится остров Пасхи.\n",
    "\n",
    "Подсказка: радиус равен 10, координаты десятичные."
   ]
  },
  {
   "cell_type": "code",
   "execution_count": null,
   "metadata": {
    "collapsed": true
   },
   "outputs": [],
   "source": [
    "# ваш код здесь"
   ]
  },
  {
   "cell_type": "markdown",
   "metadata": {},
   "source": [
    "### 4. Англо-русский словарь\n",
    "Сколько всего языков для Википедии поддерживает эта библиотека? Напечатайте первый с начала и первый с конца в их алфавитном порядке. \n",
    "\n",
    "Подсказка: воспользуйтесь функцией sort для словарей. Прочитайте документацию к ней, если вы не знаете, как ей пользоваться.\n"
   ]
  },
  {
   "cell_type": "code",
   "execution_count": null,
   "metadata": {
    "collapsed": true
   },
   "outputs": [],
   "source": [
    "# ваш код здесь"
   ]
  },
  {
   "cell_type": "markdown",
   "metadata": {},
   "source": [
    "### 5. Время, назад!\n",
    "Страницы Википедии ссылаются друг на друга. Названия всех статей, на который ссылается данная, можно получить, обратившись к полю links. Найдите любой путь по ссылкам, который ведёт от Евклида к Юрию Гагарину (1 балл). Найдите кратчайший путь по ссылкам (1 балл). \n",
    "\n",
    "Подсказка: обратите внимание, как выглядит ссылка на страницу Гагарина."
   ]
  },
  {
   "cell_type": "code",
   "execution_count": null,
   "metadata": {
    "collapsed": true
   },
   "outputs": [],
   "source": [
    "# ваш код здесь"
   ]
  }
 ],
 "metadata": {
  "kernelspec": {
   "display_name": "Python 3",
   "language": "python",
   "name": "python3"
  },
  "language_info": {
   "codemirror_mode": {
    "name": "ipython",
    "version": 3
   },
   "file_extension": ".py",
   "mimetype": "text/x-python",
   "name": "python",
   "nbconvert_exporter": "python",
   "pygments_lexer": "ipython3",
   "version": "3.6.0"
  }
 },
 "nbformat": 4,
 "nbformat_minor": 2
}
